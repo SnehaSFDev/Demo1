{
    "cells": [
        {
            "cell_type": "markdown",
            "metadata": {},
            "source": "#Description\nThis is first notebook"
        },
        {
            "cell_type": "code",
            "execution_count": 2,
            "metadata": {},
            "outputs": [
                {
                    "data": {
                        "text/html": "<div>\n<style scoped>\n    .dataframe tbody tr th:only-of-type {\n        vertical-align: middle;\n    }\n\n    .dataframe tbody tr th {\n        vertical-align: top;\n    }\n\n    .dataframe thead th {\n        text-align: right;\n    }\n</style>\n<table border=\"1\" class=\"dataframe\">\n  <thead>\n    <tr style=\"text-align: right;\">\n      <th></th>\n      <th>Series_reference</th>\n      <th>Period</th>\n      <th>Data_value</th>\n      <th>Suppressed</th>\n      <th>STATUS</th>\n      <th>UNITS</th>\n      <th>Magnitude</th>\n      <th>Subject</th>\n      <th>Group</th>\n      <th>Series_title_1</th>\n      <th>Series_title_2</th>\n      <th>Series_title_3</th>\n      <th>Series_title_4</th>\n      <th>Series_title_5</th>\n    </tr>\n  </thead>\n  <tbody>\n    <tr>\n      <th>0</th>\n      <td>ECTM.S1AG1210</td>\n      <td>2000.01</td>\n      <td>9.1</td>\n      <td>NaN</td>\n      <td>C</td>\n      <td>Dollars</td>\n      <td>6</td>\n      <td>Electronic Card Transactions (ANZSIC06) - ECT</td>\n      <td>Private - Values - Electronic card transaction...</td>\n      <td>Actual</td>\n      <td>Supermarket and grocery stores</td>\n      <td>NaN</td>\n      <td>NaN</td>\n      <td>NaN</td>\n    </tr>\n    <tr>\n      <th>1</th>\n      <td>ECTM.S1AG1210</td>\n      <td>2000.02</td>\n      <td>9.5</td>\n      <td>NaN</td>\n      <td>C</td>\n      <td>Dollars</td>\n      <td>6</td>\n      <td>Electronic Card Transactions (ANZSIC06) - ECT</td>\n      <td>Private - Values - Electronic card transaction...</td>\n      <td>Actual</td>\n      <td>Supermarket and grocery stores</td>\n      <td>NaN</td>\n      <td>NaN</td>\n      <td>NaN</td>\n    </tr>\n    <tr>\n      <th>2</th>\n      <td>ECTM.S1AG1210</td>\n      <td>2000.03</td>\n      <td>10.0</td>\n      <td>NaN</td>\n      <td>C</td>\n      <td>Dollars</td>\n      <td>6</td>\n      <td>Electronic Card Transactions (ANZSIC06) - ECT</td>\n      <td>Private - Values - Electronic card transaction...</td>\n      <td>Actual</td>\n      <td>Supermarket and grocery stores</td>\n      <td>NaN</td>\n      <td>NaN</td>\n      <td>NaN</td>\n    </tr>\n    <tr>\n      <th>3</th>\n      <td>ECTM.S1AG1210</td>\n      <td>2000.04</td>\n      <td>9.2</td>\n      <td>NaN</td>\n      <td>C</td>\n      <td>Dollars</td>\n      <td>6</td>\n      <td>Electronic Card Transactions (ANZSIC06) - ECT</td>\n      <td>Private - Values - Electronic card transaction...</td>\n      <td>Actual</td>\n      <td>Supermarket and grocery stores</td>\n      <td>NaN</td>\n      <td>NaN</td>\n      <td>NaN</td>\n    </tr>\n    <tr>\n      <th>4</th>\n      <td>ECTM.S1AG1210</td>\n      <td>2000.05</td>\n      <td>9.5</td>\n      <td>NaN</td>\n      <td>C</td>\n      <td>Dollars</td>\n      <td>6</td>\n      <td>Electronic Card Transactions (ANZSIC06) - ECT</td>\n      <td>Private - Values - Electronic card transaction...</td>\n      <td>Actual</td>\n      <td>Supermarket and grocery stores</td>\n      <td>NaN</td>\n      <td>NaN</td>\n      <td>NaN</td>\n    </tr>\n  </tbody>\n</table>\n</div>",
                        "text/plain": "  Series_reference   Period  Data_value  Suppressed STATUS    UNITS  \\\n0    ECTM.S1AG1210  2000.01         9.1         NaN      C  Dollars   \n1    ECTM.S1AG1210  2000.02         9.5         NaN      C  Dollars   \n2    ECTM.S1AG1210  2000.03        10.0         NaN      C  Dollars   \n3    ECTM.S1AG1210  2000.04         9.2         NaN      C  Dollars   \n4    ECTM.S1AG1210  2000.05         9.5         NaN      C  Dollars   \n\n   Magnitude                                        Subject  \\\n0          6  Electronic Card Transactions (ANZSIC06) - ECT   \n1          6  Electronic Card Transactions (ANZSIC06) - ECT   \n2          6  Electronic Card Transactions (ANZSIC06) - ECT   \n3          6  Electronic Card Transactions (ANZSIC06) - ECT   \n4          6  Electronic Card Transactions (ANZSIC06) - ECT   \n\n                                               Group Series_title_1  \\\n0  Private - Values - Electronic card transaction...         Actual   \n1  Private - Values - Electronic card transaction...         Actual   \n2  Private - Values - Electronic card transaction...         Actual   \n3  Private - Values - Electronic card transaction...         Actual   \n4  Private - Values - Electronic card transaction...         Actual   \n\n                   Series_title_2  Series_title_3  Series_title_4  \\\n0  Supermarket and grocery stores             NaN             NaN   \n1  Supermarket and grocery stores             NaN             NaN   \n2  Supermarket and grocery stores             NaN             NaN   \n3  Supermarket and grocery stores             NaN             NaN   \n4  Supermarket and grocery stores             NaN             NaN   \n\n   Series_title_5  \n0             NaN  \n1             NaN  \n2             NaN  \n3             NaN  \n4             NaN  "
                    },
                    "execution_count": 2,
                    "metadata": {},
                    "output_type": "execute_result"
                }
            ],
            "source": "# The code was removed by Watson Studio for sharing."
        },
        {
            "cell_type": "code",
            "execution_count": null,
            "metadata": {},
            "outputs": [],
            "source": ""
        }
    ],
    "metadata": {
        "kernelspec": {
            "display_name": "Python 3.6",
            "language": "python",
            "name": "python3"
        },
        "language_info": {
            "codemirror_mode": {
                "name": "ipython",
                "version": 3
            },
            "file_extension": ".py",
            "mimetype": "text/x-python",
            "name": "python",
            "nbconvert_exporter": "python",
            "pygments_lexer": "ipython3",
            "version": "3.6.9"
        }
    },
    "nbformat": 4,
    "nbformat_minor": 1
}